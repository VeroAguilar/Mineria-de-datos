{
 "cells": [
  {
   "cell_type": "markdown",
   "id": "df695b69",
   "metadata": {},
   "source": [
    "# Ejercicios básicos de Python\n"
   ]
  },
  {
   "cell_type": "code",
   "execution_count": 2,
   "id": "5d84e364",
   "metadata": {},
   "outputs": [
    {
     "name": "stdout",
     "output_type": "stream",
     "text": [
      "Hola mundo!!\n"
     ]
    }
   ],
   "source": [
    "print(\"Hola mundo!!\")"
   ]
  },
  {
   "cell_type": "markdown",
   "id": "ffb102a9",
   "metadata": {},
   "source": [
    "# Ejercicio 1 \n",
    "\n",
    "* Realiza una variable con tu matricula y realiza una secuencia de imprimir con tu nombre y tu matricula concatenados."
   ]
  },
  {
   "cell_type": "code",
   "execution_count": 38,
   "id": "94134ed1",
   "metadata": {},
   "outputs": [
    {
     "name": "stdout",
     "output_type": "stream",
     "text": [
      "Verónica Vanessa Aguilar Ortiz 1855188\n"
     ]
    }
   ],
   "source": [
    "mat=1855188\n",
    "nombre='Verónica Vanessa Aguilar Ortiz'\n",
    "print(nombre,mat)"
   ]
  },
  {
   "cell_type": "markdown",
   "id": "958bf7ea",
   "metadata": {},
   "source": [
    "# Ejercicio 2\n",
    "\n",
    "* Pidiendo el input del usuario pide dos números y crea una pequeña calculadora con los operadores básicos de suma, resta, multiplicación, división, y exponente."
   ]
  },
  {
   "cell_type": "code",
   "execution_count": 93,
   "id": "2ee8f812",
   "metadata": {
    "scrolled": true
   },
   "outputs": [
    {
     "name": "stdout",
     "output_type": "stream",
     "text": [
      "Introduce un número  5\n",
      "Introduce otro número  8\n",
      "La suma de los números ingresados es:  13\n",
      "La resta de los números ingresados es:  -3\n",
      "La multiplicación de los números ingresados es:  40\n",
      "La división de los números ingresados es:  0.625\n",
      "El primer número elevado al exponente del segundo número es:  390625\n"
     ]
    }
   ],
   "source": [
    "a=int(input(\"Introduce un número  \"))\n",
    "b=int(input(\"Introduce otro número  \"))\n",
    "suma=a+b\n",
    "resta=a-b\n",
    "mult=a*b\n",
    "div=a/b\n",
    "exp=a**b\n",
    "print(\"La suma de los números ingresados es: \",suma)\n",
    "print(\"La resta de los números ingresados es: \",resta)\n",
    "print(\"La multiplicación de los números ingresados es: \",mult)\n",
    "print(\"La división de los números ingresados es: \",div)\n",
    "print(\"El primer número elevado al exponente del segundo número es: \",exp)"
   ]
  },
  {
   "cell_type": "markdown",
   "id": "ab5194b0",
   "metadata": {},
   "source": [
    "# Ejercicio 3 \n",
    " \n",
    "* Con loop while o for, realiza una lista de 10 numeros multiplos de 3, y después realiza una función de loop que sume todos los números dentro del arreglo."
   ]
  },
  {
   "cell_type": "code",
   "execution_count": 94,
   "id": "f640acae",
   "metadata": {},
   "outputs": [
    {
     "name": "stdout",
     "output_type": "stream",
     "text": [
      "[0, 3, 6, 9, 12, 15, 18, 21, 24, 27, 30]\n",
      "La suma de los números es:  165\n"
     ]
    }
   ],
   "source": [
    "a=[]\n",
    "i=0\n",
    "while len(a)<=10:\n",
    "    if i%3==0:\n",
    "        a.append(i)\n",
    "    i=i+1\n",
    "print(a)\n",
    "j=0\n",
    "for a in a:\n",
    "    j=j+a\n",
    "print(\"La suma de los números es: \",j)"
   ]
  },
  {
   "cell_type": "markdown",
   "id": "a2d2cd2b",
   "metadata": {},
   "source": [
    "# Ejercicio 4 \n",
    "\n",
    "* Con una función de if else, revisar si un número es par o es impar."
   ]
  },
  {
   "cell_type": "code",
   "execution_count": 97,
   "id": "05207356",
   "metadata": {},
   "outputs": [
    {
     "name": "stdout",
     "output_type": "stream",
     "text": [
      "Ingrese un número 7\n",
      "El número introducido es: impar\n"
     ]
    }
   ],
   "source": [
    "num=int(input(\"Ingrese un número \"))\n",
    "if num%2==0:\n",
    "    print(\"El número introducido es: par\")\n",
    "else:\n",
    "    print(\"El número introducido es: impar\")"
   ]
  },
  {
   "cell_type": "markdown",
   "id": "9af3b779",
   "metadata": {},
   "source": [
    "* Con una función de if else, revisar si un número es primo o no."
   ]
  },
  {
   "cell_type": "code",
   "execution_count": 99,
   "id": "980cd033",
   "metadata": {},
   "outputs": [
    {
     "name": "stdout",
     "output_type": "stream",
     "text": [
      "Ingrese un número  9\n",
      "El número ingresado no es primo\n"
     ]
    }
   ],
   "source": [
    "num= int(input(\"Ingrese un número  \"))\n",
    "v= range(2,num)\n",
    "contador = 0\n",
    "for n in v:\n",
    "  if num % n == 0:\n",
    "    contador=contador+1\n",
    "    \n",
    "if contador > 0 :\n",
    "    print(\"El número ingresado no es primo\" )\n",
    "else:\n",
    "    print(\"El número ingresado es primo\")"
   ]
  },
  {
   "cell_type": "markdown",
   "id": "ea38bd24",
   "metadata": {},
   "source": [
    "# Ejercicio 5 \n",
    "\n",
    "* Utilizando diferentes clases en python, crea una calculadora con los operadores básicos de suma, resta, multiplicación, división, y exponente."
   ]
  },
  {
   "cell_type": "code",
   "execution_count": 101,
   "id": "b1b6dc01",
   "metadata": {},
   "outputs": [
    {
     "name": "stdout",
     "output_type": "stream",
     "text": [
      "Escoge la opción que deseas realizar\n",
      "1.Suma  2.Resta  3.Multiplicación  4.Dividición  5.Exponente   3\n",
      "Opción elegida 3\n",
      "Ingresa un número  4\n",
      "Ingresa otro número  12\n",
      "La multiplicación de los números es:   48\n"
     ]
    }
   ],
   "source": [
    "print(\"Escoge la opción que deseas realizar\")\n",
    "num=int(input(\"1.Suma  2.Resta  3.Multiplicación  4.Dividición  5.Exponente   \"))\n",
    "print(\"Opción elegida\",num)\n",
    "n1=int(input(\"Ingresa un número  \"  ))\n",
    "n2=int(input(\"Ingresa otro número  \" ))\n",
    "if num==1:\n",
    "    j=n1+n2\n",
    "    print(\"La suma de los números es:  \",j)\n",
    "elif num==2:\n",
    "    j=n1-n2\n",
    "    print(\"La resta de los números es:  \",j)\n",
    "elif num==3:\n",
    "    j=n1*n2\n",
    "    print(\"La multiplicación de los números es:  \",j)\n",
    "elif num==4:\n",
    "    j=n1^n2\n",
    "    print(\"La división de los números es:  \",j)\n",
    "elif num==5:\n",
    "    print(\" El primer número a elevado al segundo número es igual a: \",j)  \n",
    "else:\n",
    "    print(\"Opción incorrecta\")"
   ]
  },
  {
   "cell_type": "markdown",
   "id": "61922e48",
   "metadata": {},
   "source": [
    "# Ejercicios con estructuras básicas de python"
   ]
  },
  {
   "cell_type": "markdown",
   "id": "8002d49f",
   "metadata": {},
   "source": [
    "*Tuplas*"
   ]
  },
  {
   "cell_type": "markdown",
   "id": "9e20a394",
   "metadata": {},
   "source": [
    "* Crear una variable flotante, integer, boleana y compleja e imprimir el tipo de variable que es.\n",
    "* Crear una tupla con valores enteros imprimir el primer y ultimo valor.\n",
    "* Añadir 3 valores de string a la tupla.\n"
   ]
  },
  {
   "cell_type": "code",
   "execution_count": 53,
   "id": "dece8887",
   "metadata": {},
   "outputs": [
    {
     "name": "stdout",
     "output_type": "stream",
     "text": [
      "El primer elemento de la tupla es:  1\n",
      "El ultimo elemento de la tupla es:  89\n",
      "¿Qué quieres buscar?: 60\n",
      "(1, 23, 33, 45, 46, 60, 89)\n",
      "Tu variable se encuentra en la tupla\n"
     ]
    }
   ],
   "source": [
    "tupla=(1,23,33,45,46,60,89)\n",
    "primero=tupla[0]\n",
    "n=len(tupla)-1\n",
    "ultimo=tupla[n]\n",
    "print('El primer elemento de la tupla es: ',primero)\n",
    "print('El ultimo elemento de la tupla es: ',ultimo)\n",
    "buscar=int(input('¿Qué quieres buscar?: '))\n",
    "print(tupla)\n",
    "if buscar in tupla:\n",
    "    print('Tu variable se encuentra en la tupla')\n",
    "else:\n",
    "    print('Tu variable no se encuentra en la tupla')"
   ]
  },
  {
   "cell_type": "code",
   "execution_count": 63,
   "id": "e335c1ac",
   "metadata": {},
   "outputs": [
    {
     "name": "stdout",
     "output_type": "stream",
     "text": [
      "El primer elemento de la tupla es:  Enero\n",
      "El ultimo elemento de la tupla es:  Marzo\n",
      "¿Qué quieres buscar?: Marzo\n",
      "('Enero', 'Febrero', 'Marzo')\n",
      "Tu variable se encuentra en la tupla\n"
     ]
    }
   ],
   "source": [
    "tupla=('Enero','Febrero','Marzo')\n",
    "primero=tupla[0]\n",
    "n=len(tupla)-1\n",
    "ultimo=tupla[n]\n",
    "print('El primer elemento de la tupla es: ',primero)\n",
    "print('El ultimo elemento de la tupla es: ',ultimo)\n",
    "buscar=input('¿Qué quieres buscar?: ')\n",
    "print(tupla)\n",
    "if buscar in tupla:\n",
    "    print('Tu variable se encuentra en la tupla')\n",
    "else:\n",
    "    print('Tu variable no se encuentra en la tupla')"
   ]
  },
  {
   "cell_type": "markdown",
   "id": "e2c0cbad",
   "metadata": {},
   "source": [
    "*Listas*\n"
   ]
  },
  {
   "cell_type": "markdown",
   "id": "6ae97754",
   "metadata": {},
   "source": [
    "* Crear una lista con 40 elementos aleatorios enteros.\n",
    "\n",
    "* Con una funcion (def) crear dos listas nuevas a partir de la lista creada por numeros aleatorios, en la cual en una esten los elementos pares, y en la otra los elementos impares.\n",
    "\n",
    "* Crear dos variables con la longitud de ambas listas nuevas e imprimir las variables.\n",
    "\n",
    "* Ordenar los elementos de la lista par de mayor a menor, y los de la lista impar de menor a mayor.\n",
    "\n",
    "* Utilizar al menos cuatro de las funciones de listas en python en la lista original de 40 elementos."
   ]
  },
  {
   "cell_type": "code",
   "execution_count": 102,
   "id": "0bdf47e8",
   "metadata": {},
   "outputs": [
    {
     "name": "stdout",
     "output_type": "stream",
     "text": [
      "La longitud de los números es:  40\n",
      "Los números pares ordenados:  [96, 94, 92, 90, 88, 80, 78, 72, 68, 66, 62, 60, 46, 34, 32, 18, 10, 8]\n",
      "Los números impares ordenados:  [5, 7, 11, 21, 23, 27, 31, 33, 45, 53, 55, 59, 63, 75, 77, 79, 83, 85, 87, 93, 95, 97]\n",
      "Los pares de la lista son:  [96, 94, 92, 90, 88, 80, 78, 72, 68, 66, 62, 60, 46, 34, 32, 18, 10, 8] \n",
      "Los impares de la lista son:  [5, 7, 11, 21, 23, 27, 31, 33, 45, 53, 55, 59, 63, 75, 77, 79, 83, 85, 87, 93, 95, 97]\n",
      "La cantidad de pares en números es:  18 \n",
      "La cantidad de impares es: 22\n",
      "El promedio de los números es:  57.45\n",
      "El menor de los números es:  5\n",
      "El mayor de los números es:  97\n",
      "La suma de los números es:  2298\n"
     ]
    }
   ],
   "source": [
    "import random\n",
    "def impar(l):\n",
    "    impar=list()\n",
    "    for e in l:\n",
    "        if e%2!=0:\n",
    "            impar.append(e)\n",
    "    return impar\n",
    "def par(l):\n",
    "    par=list()\n",
    "    for e in l:\n",
    "        if e%2==0:\n",
    "            par.append(e)\n",
    "    return par\n",
    "\n",
    "pares=list()\n",
    "impares=list()\n",
    "aleatorio=range(0,100)\n",
    "l=random.sample(aleatorio,40)\n",
    "longitud=len(l)\n",
    "print(\"La longitud de los números es: \",longitud)\n",
    "pares=par(l)\n",
    "impares=impar(l)\n",
    "impares.sort()\n",
    "paresord=sorted(pares,reverse=True)\n",
    "pares=paresord\n",
    "cantidad1=len(pares)\n",
    "cantidad2=len(impares)\n",
    "suma=sum(l)\n",
    "promedio=suma/len(l)\n",
    "l.sort()\n",
    "minimo=min(l)\n",
    "maximo=max(l)\n",
    "print(\"Los números pares ordenados: \",pares)\n",
    "print(\"Los números impares ordenados: \",impares)\n",
    "print(\"Los pares de la lista son: \",pares,\"\\nLos impares de la lista son: \",impares)\n",
    "print(\"La cantidad de pares en números es: \",cantidad1,\"\\nLa cantidad de impares es:\",cantidad2)\n",
    "print(\"El promedio de los números es: \",promedio)\n",
    "print(\"El menor de los números es: \",minimo)\n",
    "print(\"El mayor de los números es: \",maximo)\n",
    "print(\"La suma de los números es: \",suma)"
   ]
  },
  {
   "cell_type": "markdown",
   "id": "23f8d453",
   "metadata": {},
   "source": [
    "*Diccionarios*\n",
    "\n",
    "* Crear un diccionario de 6 personas que conozcas con su primer nombre y su edad.\n",
    "* Crear una lista con los valores de la edad y reacomodar la lista de menor a mayor valor.\n",
    "* Usando el diccionario y un loop, imprimir solo los nombres.\n",
    "* Añadir dos personas nuevas a tu diccionario, incluyendo edad."
   ]
  },
  {
   "cell_type": "code",
   "execution_count": 103,
   "id": "2219b98d",
   "metadata": {},
   "outputs": [
    {
     "name": "stdout",
     "output_type": "stream",
     "text": [
      "Cada una de las personas con sus edades:  {'Ana': 21, 'David': 19, 'Diana': 16, 'Vanessa': 22, 'Ximena': 25, 'Lorena': 18}\n",
      "Las edades de las personas de menor a mayor son [16, 18, 19, 21, 22, 25]\n",
      "Los nombres de las personas son: \n",
      "Ana\n",
      "David\n",
      "Diana\n",
      "Vanessa\n",
      "Ximena\n",
      "Lorena\n",
      "El nuevo diccionario es:  {'Ana': 21, 'David': 19, 'Diana': 16, 'Vanessa': 22, 'Ximena': 25, 'Lorena': 18, 'Susana': 31, 'Daniela': 19}\n"
     ]
    }
   ],
   "source": [
    "Diccionario={'Ana':21,'David':19,'Diana':16,'Vanessa':22,'Ximena':25,'Lorena':18}\n",
    "edades=list()\n",
    "print(\"Cada una de las personas con sus edades: \",Diccionario)\n",
    "for e in Diccionario:\n",
    "    edades.append(Diccionario[e])\n",
    "edades.sort()\n",
    "print(\"Las edades de las personas de menor a mayor son\",edades)\n",
    "print(\"Los nombres de las personas son: \")\n",
    "nombres=Diccionario.keys() \n",
    "for nombre in nombres:\n",
    "    print(nombre)\n",
    "Diccionario['Susana']=31\n",
    "Diccionario['Daniela']=19\n",
    "print(\"El nuevo diccionario es: \",Diccionario)"
   ]
  },
  {
   "cell_type": "markdown",
   "id": "dcde466b",
   "metadata": {},
   "source": [
    "*Sets*\n",
    "* Crea un set con 100 numeros aleatorios enteros del 1 al 25.\n",
    "* Comprueba la longitud de tu set.\n",
    "* Crea una lista de 5 numeros aleatorios del 1 al 10 y comprueba si cada valor aparece en el set inicial."
   ]
  },
  {
   "cell_type": "code",
   "execution_count": 92,
   "id": "8dcacfc5",
   "metadata": {},
   "outputs": [
    {
     "name": "stdout",
     "output_type": "stream",
     "text": [
      "La longitud del set es de:  23\n",
      "Nuestro set es:  {1, 2, 3, 4, 5, 6, 7, 8, 9, 10, 11, 13, 14, 16, 17, 18, 19, 20, 21, 22, 23, 24, 25}\n",
      "La lista aleatoria es:  [0, 7, 3, 2, 0]\n",
      "El número 0 no esta en el set\n",
      "El número 7 esta en el set\n",
      "El número 3 esta en el set\n",
      "El número 2 esta en el set\n",
      "El número 0 no esta en el set\n"
     ]
    }
   ],
   "source": [
    "import random\n",
    "primerset=set()\n",
    "long=list()\n",
    "for i in range(0,100):\n",
    "    elemento=random.randint(1,25)\n",
    "    primerset.add(elemento)    \n",
    "longitud=len(primerset)\n",
    "print('La longitud del set es de: ',longitud)\n",
    "print('Nuestro set es: ',primerset)\n",
    "for i in range(0,5):\n",
    "    elemtis=random.randint(0,10)\n",
    "    long.append(elemtis)\n",
    "print('La lista aleatoria es: ',long)\n",
    "\n",
    "for i in long:\n",
    "    if i in primerset:\n",
    "        print('El número',i,'esta en el set')\n",
    "    else:\n",
    "        print('El número',i, 'no esta en el set')"
   ]
  }
 ],
 "metadata": {
  "kernelspec": {
   "display_name": "Python 3",
   "language": "python",
   "name": "python3"
  },
  "language_info": {
   "codemirror_mode": {
    "name": "ipython",
    "version": 3
   },
   "file_extension": ".py",
   "mimetype": "text/x-python",
   "name": "python",
   "nbconvert_exporter": "python",
   "pygments_lexer": "ipython3",
   "version": "3.8.8"
  }
 },
 "nbformat": 4,
 "nbformat_minor": 5
}
